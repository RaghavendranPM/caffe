{
 "cells": [
  {
   "cell_type": "code",
   "execution_count": 22,
   "metadata": {
    "collapsed": false
   },
   "outputs": [],
   "source": [
    "import caffe\n",
    "import numpy as np"
   ]
  },
  {
   "cell_type": "code",
   "execution_count": 3,
   "metadata": {
    "collapsed": true
   },
   "outputs": [],
   "source": [
    "# CaffeNet\n",
    "weights = '/home/ronghang/workspace/caffe/models/bvlc_reference_caffenet/bvlc_reference_caffenet.caffemodel'"
   ]
  },
  {
   "cell_type": "code",
   "execution_count": 4,
   "metadata": {
    "collapsed": true
   },
   "outputs": [],
   "source": [
    "# This may take some time\n",
    "net_params = caffe.proto.caffe_pb2.NetParameter()\n",
    "net_params.ParseFromString(open(weights, 'rb').read())"
   ]
  },
  {
   "cell_type": "code",
   "execution_count": 14,
   "metadata": {
    "collapsed": false
   },
   "outputs": [
    {
     "name": "stdout",
     "output_type": "stream",
     "text": [
      "data\n",
      "conv1\n",
      "relu1\n",
      "pool1\n",
      "norm1\n",
      "conv2\n",
      "relu2\n",
      "pool2\n",
      "norm2\n",
      "conv3\n",
      "relu3\n",
      "conv4\n",
      "relu4\n",
      "conv5\n",
      "relu5\n",
      "pool5\n",
      "fc6\n",
      "relu6\n",
      "drop6\n",
      "fc7\n",
      "relu7\n",
      "drop7\n",
      "fc8\n",
      "loss\n"
     ]
    }
   ],
   "source": [
    "all_layers = net_params.layers\n",
    "# Note that in some new models, \n",
    "# \"layer\" is used instead of \"layers\"\n",
    "# all_layers = net_params.layer\n",
    "\n",
    "# Print all layer names in net\n",
    "for l in all_layers:\n",
    "    print(l.name)"
   ]
  },
  {
   "cell_type": "code",
   "execution_count": 25,
   "metadata": {
    "collapsed": false
   },
   "outputs": [],
   "source": [
    "# Load Conv1 parameter\n",
    "conv1_params = all_layers[1]\n",
    "W, B = conv1_params.blobs[0], conv1_params.blobs[1]\n",
    "\n",
    "# Note that sometimes the shape is stored\n",
    "# as W.num, W.channels, W.height, W.width\n",
    "# and sometimes stored as W.shape\n",
    "W_data = np.reshape(W.data, (W.num, W.channels, W.height, W.width))\n",
    "B_data = np.reshape(B.data, (B.num, B.channels, B.height, B.width))"
   ]
  }
 ],
 "metadata": {
  "kernelspec": {
   "display_name": "Python 2",
   "language": "python",
   "name": "python2"
  },
  "language_info": {
   "codemirror_mode": {
    "name": "ipython",
    "version": 2
   },
   "file_extension": ".py",
   "mimetype": "text/x-python",
   "name": "python",
   "nbconvert_exporter": "python",
   "pygments_lexer": "ipython2",
   "version": "2.7.11"
  }
 },
 "nbformat": 4,
 "nbformat_minor": 0
}
